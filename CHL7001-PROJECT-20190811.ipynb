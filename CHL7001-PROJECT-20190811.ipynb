{
 "cells": [
  {
   "cell_type": "markdown",
   "metadata": {},
   "source": [
    "# CHL7001 - Final Project\n",
    "## Transfer Learning and Computer Vision: YOLOv3 Drone-Airplane Discriminator"
   ]
  },
  {
   "cell_type": "code",
   "execution_count": 6,
   "metadata": {},
   "outputs": [
    {
     "name": "stdout",
     "output_type": "stream",
     "text": [
      "Collecting pycocotools\n",
      "  Using cached https://files.pythonhosted.org/packages/96/84/9a07b1095fd8555ba3f3d519517c8743c2554a245f9476e5e39869f948d2/pycocotools-2.0.0.tar.gz\n",
      "Building wheels for collected packages: pycocotools\n",
      "  Building wheel for pycocotools (setup.py) ... \u001b[?25ldone\n",
      "\u001b[?25h  Stored in directory: /Users/melchior/Library/Caches/pip/wheels/dc/e6/36/0e1ae88c868eb42d3f92181b1c9bbd0b217a7ec3da6bd62e55\n",
      "Successfully built pycocotools\n",
      "Installing collected packages: pycocotools\n",
      "Successfully installed pycocotools-2.0.0\n"
     ]
    }
   ],
   "source": [
    "#!pip install cython\n",
    "#!pip install pycocotools"
   ]
  },
  {
   "cell_type": "code",
   "execution_count": 13,
   "metadata": {},
   "outputs": [
    {
     "name": "stdout",
     "output_type": "stream",
     "text": [
      "PyTorch 1.2.0 CPU\n"
     ]
    }
   ],
   "source": [
    "import time\n",
    "import glob\n",
    "import torch\n",
    "import os\n",
    "\n",
    "\n",
    "from IPython.display import Image, clear_output\n",
    "print('PyTorch %s %s' % (torch.__version__, torch.cuda.get_device_properties(0) if torch.cuda.is_available() else 'CPU'))"
   ]
  },
  {
   "cell_type": "code",
   "execution_count": null,
   "metadata": {},
   "outputs": [],
   "source": []
  },
  {
   "cell_type": "code",
   "execution_count": null,
   "metadata": {},
   "outputs": [],
   "source": [
    "# This will download pjreddie's YOLOv3 weights\n",
    "!python3 detect.py\n",
    "Image(filename='data/samples/zidane.jpg', width=600)"
   ]
  },
  {
   "cell_type": "markdown",
   "metadata": {},
   "source": [
    "### Training from Scratch"
   ]
  },
  {
   "cell_type": "code",
   "execution_count": null,
   "metadata": {},
   "outputs": [],
   "source": [
    "!python3 train.py --batch-size 4 --accumulate 1 --data data/coco_16img.data && mv results.txt results0_16img.txt"
   ]
  },
  {
   "cell_type": "code",
   "execution_count": 3,
   "metadata": {},
   "outputs": [
    {
     "ename": "ModuleNotFoundError",
     "evalue": "No module named 'pycocotools'",
     "output_type": "error",
     "traceback": [
      "\u001b[0;31m---------------------------------------------------------------------------\u001b[0m",
      "\u001b[0;31mModuleNotFoundError\u001b[0m                       Traceback (most recent call last)",
      "\u001b[0;32m<ipython-input-3-4e18108544f2>\u001b[0m in \u001b[0;36m<module>\u001b[0;34m\u001b[0m\n\u001b[0;32m----> 1\u001b[0;31m \u001b[0;32mfrom\u001b[0m \u001b[0mpycocotools\u001b[0m\u001b[0;34m.\u001b[0m\u001b[0mcoco\u001b[0m \u001b[0;32mimport\u001b[0m \u001b[0mCOCO\u001b[0m\u001b[0;34m\u001b[0m\u001b[0;34m\u001b[0m\u001b[0m\n\u001b[0m",
      "\u001b[0;31mModuleNotFoundError\u001b[0m: No module named 'pycocotools'"
     ]
    }
   ],
   "source": [
    "from pycocotools.coco import COCO"
   ]
  },
  {
   "cell_type": "code",
   "execution_count": null,
   "metadata": {},
   "outputs": [],
   "source": [
    "!python3 -c \"from utils import utils; utils.plot_results()\"  # plot training results\n",
    "Image(filename='results.png', width=800)"
   ]
  },
  {
   "cell_type": "markdown",
   "metadata": {},
   "source": [
    "### Evaluating Trained Model"
   ]
  },
  {
   "cell_type": "code",
   "execution_count": 2,
   "metadata": {},
   "outputs": [
    {
     "name": "stdout",
     "output_type": "stream",
     "text": [
      "Namespace(batch_size=16, cfg='cfg/yolov3-spp.cfg', conf_thres=0.001, data='data/coco.data', img_size=416, iou_thres=0.5, nms_thres=0.5, save_json=True, weights='weights/yolov3-spp.weights')\n",
      "Using CPU\n",
      "\n",
      "../coco/5k.txt\n",
      "[]\n",
      "                         Class    Images   Targets         P         R       mAP        F1: 100%|█| 313/313 [1:12:58<00:00, 10.51s/it]\n",
      "                           all     5e+03  3.58e+04     0.107     0.749     0.557     0.182\n",
      "                        person     5e+03  1.09e+04     0.138     0.846     0.723     0.238\n",
      "                       bicycle     5e+03       316    0.0663     0.696     0.474     0.121\n",
      "                           car     5e+03  1.67e+03    0.0682     0.781     0.586     0.125\n",
      "                    motorcycle     5e+03       391     0.149     0.785     0.657      0.25\n",
      "                      airplane     5e+03       131      0.17     0.931     0.853     0.287\n",
      "                           bus     5e+03       261     0.177     0.824     0.778     0.292\n",
      "                         train     5e+03       212      0.18     0.892     0.832       0.3\n",
      "                         truck     5e+03       352     0.106     0.656     0.497     0.183\n",
      "                          boat     5e+03       475    0.0851     0.724     0.483     0.152\n",
      "                 traffic light     5e+03       516    0.0448     0.723     0.485    0.0844\n",
      "                  fire hydrant     5e+03        83     0.183     0.904     0.861     0.304\n",
      "                     stop sign     5e+03        84    0.0838     0.881     0.791     0.153\n",
      "                 parking meter     5e+03        59     0.066     0.627     0.508     0.119\n",
      "                         bench     5e+03       473     0.033     0.609     0.338    0.0625\n",
      "                          bird     5e+03       469    0.0836     0.623      0.47     0.147\n",
      "                           cat     5e+03       195     0.275     0.821     0.735     0.412\n",
      "                           dog     5e+03       223      0.22     0.834     0.771     0.348\n",
      "                         horse     5e+03       305     0.149     0.872     0.806     0.254\n",
      "                         sheep     5e+03       321     0.199     0.822     0.693     0.321\n",
      "                           cow     5e+03       384     0.156     0.753      0.65     0.258\n",
      "                      elephant     5e+03       284     0.219     0.933     0.897     0.354\n",
      "                          bear     5e+03        53     0.414     0.868     0.837     0.561\n",
      "                         zebra     5e+03       277     0.206     0.884     0.831     0.334\n",
      "                       giraffe     5e+03       170     0.202     0.929     0.882     0.331\n",
      "                      backpack     5e+03       384    0.0457      0.63     0.333    0.0853\n",
      "                      umbrella     5e+03       392    0.0874     0.819     0.596     0.158\n",
      "                       handbag     5e+03       483    0.0244     0.592     0.214    0.0468\n",
      "                           tie     5e+03       297    0.0611     0.727     0.492     0.113\n",
      "                      suitcase     5e+03       310      0.13     0.803      0.56     0.223\n",
      "                       frisbee     5e+03       109     0.134     0.862     0.778     0.233\n",
      "                          skis     5e+03       282    0.0624     0.695     0.406     0.114\n",
      "                     snowboard     5e+03        92    0.0958     0.717     0.504     0.169\n",
      "                   sports ball     5e+03       236    0.0715     0.716     0.622      0.13\n",
      "                          kite     5e+03       399     0.142     0.744     0.533     0.238\n",
      "                  baseball bat     5e+03       125    0.0807     0.712     0.576     0.145\n",
      "                baseball glove     5e+03       139    0.0606     0.655     0.482     0.111\n",
      "                    skateboard     5e+03       218    0.0926     0.794     0.684     0.166\n",
      "                     surfboard     5e+03       266    0.0806     0.789     0.606     0.146\n",
      "                 tennis racket     5e+03       183     0.106     0.836     0.734     0.188\n",
      "                        bottle     5e+03       966    0.0653     0.712     0.441      0.12\n",
      "                    wine glass     5e+03       366    0.0912     0.667      0.49     0.161\n",
      "                           cup     5e+03       897    0.0707     0.708     0.486     0.128\n",
      "                          fork     5e+03       234    0.0521     0.594     0.404    0.0958\n",
      "                         knife     5e+03       291    0.0375     0.526     0.266    0.0701\n",
      "                         spoon     5e+03       253    0.0309     0.553      0.22    0.0585\n",
      "                          bowl     5e+03       620    0.0754     0.763     0.492     0.137\n",
      "                        banana     5e+03       371    0.0922      0.69     0.368     0.163\n",
      "                         apple     5e+03       158    0.0492     0.639     0.227    0.0914\n",
      "                      sandwich     5e+03       160     0.104     0.662     0.454     0.179\n",
      "                        orange     5e+03       189     0.052     0.598     0.265    0.0957\n",
      "                      broccoli     5e+03       332    0.0897     0.774     0.373     0.161\n",
      "                        carrot     5e+03       346    0.0534     0.659     0.272    0.0989\n",
      "                       hot dog     5e+03       164     0.121     0.604     0.484     0.201\n",
      "                         pizza     5e+03       224     0.109     0.804     0.637     0.192\n",
      "                         donut     5e+03       237     0.149     0.755     0.594     0.249\n",
      "                          cake     5e+03       241    0.0964     0.643     0.495     0.168\n",
      "                         chair     5e+03  1.62e+03    0.0597     0.712     0.424      0.11\n",
      "                         couch     5e+03       236     0.125     0.767     0.567     0.214\n",
      "                  potted plant     5e+03       431    0.0531     0.791     0.473    0.0996\n",
      "                           bed     5e+03       195     0.185     0.826     0.725     0.302\n",
      "                  dining table     5e+03       634     0.062     0.801     0.502     0.115\n",
      "                        toilet     5e+03       179     0.209      0.95     0.835     0.342\n",
      "                            tv     5e+03       257     0.115     0.922     0.773     0.204\n",
      "                        laptop     5e+03       237     0.172     0.814     0.714     0.284\n",
      "                         mouse     5e+03        95    0.0716     0.853     0.696     0.132\n",
      "                        remote     5e+03       241    0.0581     0.772     0.506     0.108\n",
      "                      keyboard     5e+03       117    0.0813     0.897       0.7     0.149\n",
      "                    cell phone     5e+03       291    0.0381     0.646     0.396     0.072\n",
      "                     microwave     5e+03        88     0.155     0.841     0.727     0.262\n",
      "                          oven     5e+03       142     0.073     0.824     0.556     0.134\n",
      "                       toaster     5e+03        11     0.121     0.636     0.212     0.203\n",
      "                          sink     5e+03       211    0.0581     0.848     0.579     0.109\n",
      "                  refrigerator     5e+03       107    0.0827     0.897     0.755     0.151\n",
      "                          book     5e+03  1.08e+03    0.0519     0.564     0.166    0.0951\n",
      "                         clock     5e+03       292    0.0829     0.818     0.731     0.151\n",
      "                          vase     5e+03       353    0.0817     0.745     0.522     0.147\n",
      "                      scissors     5e+03        56    0.0494     0.625     0.427    0.0915\n",
      "                    teddy bear     5e+03       245      0.14     0.816     0.635      0.24\n",
      "                    hair drier     5e+03        11    0.0714     0.273     0.106     0.113\n",
      "                    toothbrush     5e+03        77     0.043      0.61     0.305    0.0803\n",
      "Traceback (most recent call last):\n",
      "  File \"test.py\", line 216, in <module>\n",
      "    opt.save_json)\n",
      "  File \"test.py\", line 172, in test\n",
      "    from pycocotools.coco import COCO\n",
      "ModuleNotFoundError: No module named 'pycocotools'\n"
     ]
    }
   ],
   "source": [
    "!python3 test.py --data data/coco.data --save-json --img-size 416"
   ]
  },
  {
   "cell_type": "code",
   "execution_count": null,
   "metadata": {},
   "outputs": [],
   "source": []
  },
  {
   "cell_type": "markdown",
   "metadata": {},
   "source": [
    "### Transfer Learning with 2 Classes"
   ]
  },
  {
   "cell_type": "code",
   "execution_count": null,
   "metadata": {},
   "outputs": [
    {
     "name": "stdout",
     "output_type": "stream",
     "text": [
      "Namespace(accumulate=2, batch_size=32, bucket='', cache_images=False, cfg='cfg/plane-drone.cfg', data='data/plane_drone_train.data', epochs=1, evolve=False, img_size=416, img_weights=False, multi_scale=False, nosave=False, notest=False, num_workers=8, rect=False, resume=False, transfer=False, xywh=False)\n",
      "Using CPU\n",
      "\n",
      "data/plane_drone_train.txt\n",
      "[]\n",
      "Reading labels (711 found, 0 missing, 0 empty for 711 images): 100%|█| 711/711 [00:00<00:00, 3410.47it/s]\n",
      "Model Summary: 222 layers, 6.15291e+07 parameters, 6.15291e+07 gradients\n",
      "\n",
      "     Epoch   gpu_mem   GIoU/xy        wh       obj       cls     total   targets  img_size\n",
      "       0/0        0G      1.83         0      23.7      39.3      64.8        45       416:   9%| | 2/23 [05:39<58:48, 168.04s/it]  "
     ]
    }
   ],
   "source": [
    "!python3 train.py --cfg cfg/plane-drone.cfg --epochs=1 --data data/plane_drone_train.data && mv results.txt results_plane_drone_img.txt"
   ]
  },
  {
   "cell_type": "code",
   "execution_count": null,
   "metadata": {},
   "outputs": [],
   "source": []
  }
 ],
 "metadata": {
  "kernelspec": {
   "display_name": "Python 3",
   "language": "python",
   "name": "python3"
  },
  "language_info": {
   "codemirror_mode": {
    "name": "ipython",
    "version": 3
   },
   "file_extension": ".py",
   "mimetype": "text/x-python",
   "name": "python",
   "nbconvert_exporter": "python",
   "pygments_lexer": "ipython3",
   "version": "3.7.3"
  }
 },
 "nbformat": 4,
 "nbformat_minor": 2
}
