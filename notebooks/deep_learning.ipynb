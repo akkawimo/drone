{
 "cells": [
  {
   "cell_type": "code",
   "execution_count": 1,
   "metadata": {
    "colab": {
     "base_uri": "https://localhost:8080/",
     "height": 394
    },
    "colab_type": "code",
    "id": "3gFIW95w4ehG",
    "outputId": "7b77e3d8-436e-4b03-84c6-ac6e1f65a711"
   },
   "outputs": [
    {
     "name": "stdout",
     "output_type": "stream",
     "text": [
      "100  165M    0  165M    0     0   152M      0 --:--:--  0:00:01 --:--:--  345M\n",
      "  % Total    % Received % Xferd  Average Speed   Time    Time     Time  Current\n",
      "                                 Dload  Upload   Total   Spent    Left  Speed\n",
      "100   388    0   388    0     0   4790      0 --:--:-- --:--:-- --:--:--  4850\n",
      "100 18.8G    0 18.8G    0     0   118M      0 --:--:--  0:02:42 --:--:--  130M\n"
     ]
    }
   ],
   "source": [
    "#!git clone https://github.com/ultralytics/yolov3\n",
    "!bash data/get_drone_dataset_gdrive.sh\n",
    "!bash data/get_coco_dataset_gdrive.sh"
   ]
  },
  {
   "cell_type": "code",
   "execution_count": 23,
   "metadata": {
    "colab": {
     "base_uri": "https://localhost:8080/",
     "height": 68
    },
    "colab_type": "code",
    "id": "L1iGju004xQ6",
    "outputId": "b5ebf519-e2ff-4e81-dce8-5fe613f27335"
   },
   "outputs": [
    {
     "name": "stdout",
     "output_type": "stream",
     "text": [
      "/bin/bash: conda: command not found\n",
      "/bin/bash: conda: command not found\n",
      "/bin/bash: conda: command not found\n"
     ]
    }
   ],
   "source": [
    "### Setting up Torch env\n",
    "\n",
    "### if pip installed! Use pip or pip3\n",
    "#!pip install -U -r transfercv/requirements.txt\n",
    "\n",
    "### Otherwise... Use Conda!\n",
    "#!conda install -y numpy opencv matplotlib tqdm pillow && conda install -y scikit-image -c conda-forge && conda install -y -c spyder-ide spyder-line-profiler\n",
    "#!conda install -y -c conda-forge tensorboard && conda install -y -c anaconda future\n",
    "#!conda install pytorch torchvision -c pytorch"
   ]
  },
  {
   "cell_type": "code",
   "execution_count": 21,
   "metadata": {
    "colab": {
     "base_uri": "https://localhost:8080/",
     "height": 136
    },
    "colab_type": "code",
    "id": "MLfbeI435Bjv",
    "outputId": "c97e4ab2-c604-4f35-e7ab-962528b184c4"
   },
   "outputs": [
    {
     "name": "stdout",
     "output_type": "stream",
     "text": [
      "Cloning into 'transfercv'...\n",
      "remote: Enumerating objects: 114, done.\u001b[K\n",
      "remote: Counting objects: 100% (114/114), done.\u001b[K\n",
      "remote: Compressing objects: 100% (82/82), done.\u001b[K\n",
      "remote: Total 114 (delta 39), reused 100 (delta 28), pack-reused 0\u001b[K\n",
      "Receiving objects: 100% (114/114), 9.15 MiB | 10.45 MiB/s, done.\n",
      "Resolving deltas: 100% (39/39), done.\n"
     ]
    }
   ],
   "source": [
    "from pycocotools.coco import COCO\n",
    "!git clone https://github.com/sergiosonline/transfercv\n",
    "!bash transfercv/weights/download_yolov3_weights.sh\n",
    "!cp weights/* transfercv/weights/"
   ]
  },
  {
   "cell_type": "code",
   "execution_count": 24,
   "metadata": {
    "colab": {
     "base_uri": "https://localhost:8080/",
     "height": 751
    },
    "colab_type": "code",
    "id": "l_P9dA-lzWXW",
    "outputId": "b9558295-c7a6-4dcf-9919-05a36e46dd28"
   },
   "outputs": [
    {
     "name": "stdout",
     "output_type": "stream",
     "text": [
      "Namespace(accumulate=2, batch_size=32, bucket='', cache_images=False, cfg='transfercv/cfg/plane-drone.cfg', data='transfercv/data/plane_drone_val.data', epochs=1, evolve=False, img_size=416, img_weights=False, multi_scale=False, nosave=False, notest=False, num_workers=2, rect=False, resume=False, transfer=False, xywh=False)\n",
      "/usr/local/lib/python3.6/dist-packages/tensorflow/python/framework/dtypes.py:516: FutureWarning: Passing (type, 1) or '1type' as a synonym of type is deprecated; in a future version of numpy, it will be understood as (type, (1,)) / '(1,)type'.\n",
      "  _np_qint8 = np.dtype([(\"qint8\", np.int8, 1)])\n",
      "/usr/local/lib/python3.6/dist-packages/tensorflow/python/framework/dtypes.py:517: FutureWarning: Passing (type, 1) or '1type' as a synonym of type is deprecated; in a future version of numpy, it will be understood as (type, (1,)) / '(1,)type'.\n",
      "  _np_quint8 = np.dtype([(\"quint8\", np.uint8, 1)])\n",
      "/usr/local/lib/python3.6/dist-packages/tensorflow/python/framework/dtypes.py:518: FutureWarning: Passing (type, 1) or '1type' as a synonym of type is deprecated; in a future version of numpy, it will be understood as (type, (1,)) / '(1,)type'.\n",
      "  _np_qint16 = np.dtype([(\"qint16\", np.int16, 1)])\n",
      "/usr/local/lib/python3.6/dist-packages/tensorflow/python/framework/dtypes.py:519: FutureWarning: Passing (type, 1) or '1type' as a synonym of type is deprecated; in a future version of numpy, it will be understood as (type, (1,)) / '(1,)type'.\n",
      "  _np_quint16 = np.dtype([(\"quint16\", np.uint16, 1)])\n",
      "/usr/local/lib/python3.6/dist-packages/tensorflow/python/framework/dtypes.py:520: FutureWarning: Passing (type, 1) or '1type' as a synonym of type is deprecated; in a future version of numpy, it will be understood as (type, (1,)) / '(1,)type'.\n",
      "  _np_qint32 = np.dtype([(\"qint32\", np.int32, 1)])\n",
      "/usr/local/lib/python3.6/dist-packages/tensorflow/python/framework/dtypes.py:525: FutureWarning: Passing (type, 1) or '1type' as a synonym of type is deprecated; in a future version of numpy, it will be understood as (type, (1,)) / '(1,)type'.\n",
      "  np_resource = np.dtype([(\"resource\", np.ubyte, 1)])\n",
      "Using CUDA device0 _CudaDeviceProperties(name='Tesla K80', total_memory=11441MB)\n",
      "\n",
      "transfercv/data/plane_drone_train.txt\n",
      "[]\n",
      "Reading labels (711 found, 0 missing, 0 empty for 711 images): 100% 711/711 [00:00<00:00, 12741.13it/s]\n",
      "Model Summary: 222 layers, 6.15291e+07 parameters, 6.15291e+07 gradients\n",
      "\n",
      "     Epoch   gpu_mem   GIoU/xy        wh       obj       cls     total   targets  img_size\n",
      "  0% 0/23 [00:00<?, ?it/s]Traceback (most recent call last):\n",
      "  File \"transfercv/train.py\", line 370, in <module>\n",
      "    accumulate=opt.accumulate)\n",
      "  File \"transfercv/train.py\", line 247, in train\n",
      "    pred = model(imgs)\n",
      "  File \"/usr/local/lib/python3.6/dist-packages/torch/nn/modules/module.py\", line 547, in __call__\n",
      "    result = self.forward(*input, **kwargs)\n",
      "  File \"/content/transfercv/models.py\", line 191, in forward\n",
      "    x = module(x)\n",
      "  File \"/usr/local/lib/python3.6/dist-packages/torch/nn/modules/module.py\", line 547, in __call__\n",
      "    result = self.forward(*input, **kwargs)\n",
      "  File \"/usr/local/lib/python3.6/dist-packages/torch/nn/modules/container.py\", line 92, in forward\n",
      "    input = module(input)\n",
      "  File \"/usr/local/lib/python3.6/dist-packages/torch/nn/modules/module.py\", line 547, in __call__\n",
      "    result = self.forward(*input, **kwargs)\n",
      "  File \"/usr/local/lib/python3.6/dist-packages/torch/nn/modules/batchnorm.py\", line 81, in forward\n",
      "    exponential_average_factor, self.eps)\n",
      "  File \"/usr/local/lib/python3.6/dist-packages/torch/nn/functional.py\", line 1656, in batch_norm\n",
      "    training, momentum, eps, torch.backends.cudnn.enabled\n",
      "RuntimeError: CUDA out of memory. Tried to allocate 44.00 MiB (GPU 0; 11.17 GiB total capacity; 10.71 GiB already allocated; 11.56 MiB free; 123.42 MiB cached)\n",
      "\n"
     ]
    }
   ],
   "source": [
    "!python3 transfercv/train.py --cfg transfercv/cfg/plane-drone.cfg --epochs=1 --data transfercv/data/plane_drone_val.data && mv transfercv/results.txt transfercv/results_plane_drone_img.txt\n",
    "\n"
   ]
  },
  {
   "cell_type": "code",
   "execution_count": 11,
   "metadata": {
    "colab": {
     "base_uri": "https://localhost:8080/",
     "height": 785
    },
    "colab_type": "code",
    "id": "EUOgzExezkYS",
    "outputId": "928f8f65-45a0-4191-edf6-cfc01cfd8fdd"
   },
   "outputs": [
    {
     "name": "stdout",
     "output_type": "stream",
     "text": [
      "--2019-08-13 16:32:54--  https://pjreddie.com/media/files/yolov3.weights\n",
      "Resolving pjreddie.com (pjreddie.com)... 128.208.4.108\n",
      "Connecting to pjreddie.com (pjreddie.com)|128.208.4.108|:443... connected.\n",
      "HTTP request sent, awaiting response... 200 OK\n",
      "Length: 248007048 (237M) [application/octet-stream]\n",
      "Saving to: ‘yolov3.weights’\n",
      "\n",
      "yolov3.weights      100%[===================>] 236.52M  9.65MB/s    in 30s     \n",
      "\n",
      "2019-08-13 16:33:25 (7.99 MB/s) - ‘yolov3.weights’ saved [248007048/248007048]\n",
      "\n",
      "--2019-08-13 16:33:25--  https://pjreddie.com/media/files/yolov3-tiny.weights\n",
      "Resolving pjreddie.com (pjreddie.com)... 128.208.4.108\n",
      "Connecting to pjreddie.com (pjreddie.com)|128.208.4.108|:443... connected.\n",
      "HTTP request sent, awaiting response... 200 OK\n",
      "Length: 35434956 (34M) [application/octet-stream]\n",
      "Saving to: ‘yolov3-tiny.weights’\n",
      "\n",
      "yolov3-tiny.weights 100%[===================>]  33.79M  7.96MB/s    in 4.8s    \n",
      "\n",
      "2019-08-13 16:33:30 (7.08 MB/s) - ‘yolov3-tiny.weights’ saved [35434956/35434956]\n",
      "\n",
      "--2019-08-13 16:33:30--  https://pjreddie.com/media/files/yolov3-spp.weights\n",
      "Resolving pjreddie.com (pjreddie.com)... 128.208.4.108\n",
      "Connecting to pjreddie.com (pjreddie.com)|128.208.4.108|:443... connected.\n",
      "HTTP request sent, awaiting response... 200 OK\n",
      "Length: 252209544 (241M) [application/octet-stream]\n",
      "Saving to: ‘yolov3-spp.weights’\n",
      "\n",
      "yolov3-spp.weights  100%[===================>] 240.53M  2.87MB/s    in 72s     \n",
      "\n",
      "2019-08-13 16:34:43 (3.34 MB/s) - ‘yolov3-spp.weights’ saved [252209544/252209544]\n",
      "\n",
      "--2019-08-13 16:34:43--  https://pjreddie.com/media/files/darknet53.conv.74\n",
      "Resolving pjreddie.com (pjreddie.com)... 128.208.4.108\n",
      "Connecting to pjreddie.com (pjreddie.com)|128.208.4.108|:443... connected.\n",
      "HTTP request sent, awaiting response... 200 OK\n",
      "Length: 162482580 (155M) [application/octet-stream]\n",
      "Saving to: ‘darknet53.conv.74’\n",
      "\n",
      "darknet53.conv.74   100%[===================>] 154.96M  18.4MB/s    in 24s     \n",
      "\n",
      "2019-08-13 16:35:08 (6.41 MB/s) - ‘darknet53.conv.74’ saved [162482580/162482580]\n",
      "\n"
     ]
    }
   ],
   "source": []
  },
  {
   "cell_type": "code",
   "execution_count": null,
   "metadata": {
    "colab": {},
    "colab_type": "code",
    "id": "BXVhRoJXzxaF"
   },
   "outputs": [],
   "source": [
    "!rm -r transfercv"
   ]
  },
  {
   "cell_type": "code",
   "execution_count": null,
   "metadata": {
    "colab": {},
    "colab_type": "code",
    "id": "UtZx_SQS7B2L"
   },
   "outputs": [],
   "source": []
  }
 ],
 "metadata": {
  "accelerator": "GPU",
  "colab": {
   "collapsed_sections": [],
   "name": "CHL7001-READY-Drone-vs-Plane.ipynb",
   "provenance": [],
   "version": "0.3.2"
  },
  "kernelspec": {
   "display_name": "Python 3",
   "language": "python",
   "name": "python3"
  },
  "language_info": {
   "codemirror_mode": {
    "name": "ipython",
    "version": 3
   },
   "file_extension": ".py",
   "mimetype": "text/x-python",
   "name": "python",
   "nbconvert_exporter": "python",
   "pygments_lexer": "ipython3",
   "version": "3.7.3"
  }
 },
 "nbformat": 4,
 "nbformat_minor": 2
}
