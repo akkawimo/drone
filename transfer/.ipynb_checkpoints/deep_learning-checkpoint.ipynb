{
 "cells": [
  {
   "cell_type": "code",
   "execution_count": 1,
   "metadata": {},
   "outputs": [
    {
     "name": "stdout",
     "output_type": "stream",
     "text": [
      "[Errno 2] No such file or directory: 'drone/yolov3/'\n",
      "/home/jupyter/drone/yolov3\n"
     ]
    }
   ],
   "source": [
    "#%cd ..\n",
    "%cd drone/yolov3/"
   ]
  },
  {
   "cell_type": "code",
   "execution_count": 2,
   "metadata": {
    "colab": {
     "base_uri": "https://localhost:8080/",
     "height": 68
    },
    "colab_type": "code",
    "id": "L1iGju004xQ6",
    "outputId": "b5ebf519-e2ff-4e81-dce8-5fe613f27335"
   },
   "outputs": [
    {
     "name": "stdout",
     "output_type": "stream",
     "text": [
      "Requirement already satisfied: nvidia-ml-py3 in /opt/anaconda3/lib/python3.7/site-packages (7.352.0)\n",
      "Requirement already up-to-date: numpy in /opt/anaconda3/lib/python3.7/site-packages (from -r requirements.txt (line 6)) (1.17.0)\n",
      "Requirement already up-to-date: opencv-python in /opt/anaconda3/lib/python3.7/site-packages (from -r requirements.txt (line 7)) (4.1.0.25)\n",
      "Requirement already up-to-date: torch>=1.1.0 in /opt/anaconda3/lib/python3.7/site-packages (from -r requirements.txt (line 8)) (1.2.0)\n",
      "Requirement already up-to-date: matplotlib in /opt/anaconda3/lib/python3.7/site-packages (from -r requirements.txt (line 9)) (3.1.1)\n",
      "Requirement already up-to-date: pycocotools in /opt/anaconda3/lib/python3.7/site-packages (from -r requirements.txt (line 10)) (2.0.0)\n",
      "Requirement already up-to-date: tqdm in /opt/anaconda3/lib/python3.7/site-packages (from -r requirements.txt (line 11)) (4.33.0)\n",
      "Requirement already up-to-date: tb-nightly in /opt/anaconda3/lib/python3.7/site-packages (from -r requirements.txt (line 12)) (1.15.0a20190817)\n",
      "Requirement already up-to-date: future in /opt/anaconda3/lib/python3.7/site-packages (from -r requirements.txt (line 13)) (0.17.1)\n",
      "Requirement already satisfied, skipping upgrade: pyparsing!=2.0.4,!=2.1.2,!=2.1.6,>=2.0.1 in /opt/anaconda3/lib/python3.7/site-packages (from matplotlib->-r requirements.txt (line 9)) (2.3.1)\n",
      "Requirement already satisfied, skipping upgrade: cycler>=0.10 in /opt/anaconda3/lib/python3.7/site-packages (from matplotlib->-r requirements.txt (line 9)) (0.10.0)\n",
      "Requirement already satisfied, skipping upgrade: kiwisolver>=1.0.1 in /opt/anaconda3/lib/python3.7/site-packages (from matplotlib->-r requirements.txt (line 9)) (1.0.1)\n",
      "Requirement already satisfied, skipping upgrade: python-dateutil>=2.1 in /opt/anaconda3/lib/python3.7/site-packages (from matplotlib->-r requirements.txt (line 9)) (2.8.0)\n",
      "Requirement already satisfied, skipping upgrade: werkzeug>=0.11.15 in /opt/anaconda3/lib/python3.7/site-packages (from tb-nightly->-r requirements.txt (line 12)) (0.14.1)\n",
      "Requirement already satisfied, skipping upgrade: absl-py>=0.4 in /opt/anaconda3/lib/python3.7/site-packages (from tb-nightly->-r requirements.txt (line 12)) (0.7.1)\n",
      "Requirement already satisfied, skipping upgrade: six>=1.10.0 in /opt/anaconda3/lib/python3.7/site-packages (from tb-nightly->-r requirements.txt (line 12)) (1.10.0)\n",
      "Requirement already satisfied, skipping upgrade: setuptools>=41.0.0 in /opt/anaconda3/lib/python3.7/site-packages (from tb-nightly->-r requirements.txt (line 12)) (41.1.0)\n",
      "Requirement already satisfied, skipping upgrade: protobuf>=3.6.0 in /opt/anaconda3/lib/python3.7/site-packages (from tb-nightly->-r requirements.txt (line 12)) (3.9.0)\n",
      "Requirement already satisfied, skipping upgrade: wheel>=0.26; python_version >= \"3\" in /opt/anaconda3/lib/python3.7/site-packages (from tb-nightly->-r requirements.txt (line 12)) (0.33.1)\n",
      "Requirement already satisfied, skipping upgrade: grpcio>=1.6.3 in /opt/anaconda3/lib/python3.7/site-packages (from tb-nightly->-r requirements.txt (line 12)) (1.22.0)\n",
      "Requirement already satisfied, skipping upgrade: markdown>=2.6.8 in /opt/anaconda3/lib/python3.7/site-packages (from tb-nightly->-r requirements.txt (line 12)) (3.1.1)\n"
     ]
    }
   ],
   "source": [
    "### Setting up Torch env\n",
    "### if pip installed! Use pip or pip3\n",
    "!pip install nvidia-ml-py3\n",
    "!pip install -U -r requirements.txt\n"
   ]
  },
  {
   "cell_type": "code",
   "execution_count": 5,
   "metadata": {
    "colab": {
     "base_uri": "https://localhost:8080/",
     "height": 136
    },
    "colab_type": "code",
    "id": "MLfbeI435Bjv",
    "outputId": "c97e4ab2-c604-4f35-e7ab-962528b184c4"
   },
   "outputs": [],
   "source": [
    "from pycocotools.coco import COCO"
   ]
  },
  {
   "cell_type": "code",
   "execution_count": 6,
   "metadata": {},
   "outputs": [],
   "source": [
    "import pycocotools"
   ]
  },
  {
   "cell_type": "code",
   "execution_count": 7,
   "metadata": {},
   "outputs": [
    {
     "name": "stdout",
     "output_type": "stream",
     "text": [
      "/home/jupyter/drone/yolov3\n"
     ]
    }
   ],
   "source": [
    "!pwd"
   ]
  },
  {
   "cell_type": "code",
   "execution_count": 4,
   "metadata": {
    "colab": {
     "base_uri": "https://localhost:8080/",
     "height": 751
    },
    "colab_type": "code",
    "id": "l_P9dA-lzWXW",
    "outputId": "b9558295-c7a6-4dcf-9919-05a36e46dd28"
   },
   "outputs": [],
   "source": [
    "#!sudo python3 train.py --cfg cfg/plane-drone.cfg --epochs 200 --batch-size 10 --data data/plane_drone_val.data"
   ]
  },
  {
   "cell_type": "code",
   "execution_count": 2,
   "metadata": {
    "colab": {
     "base_uri": "https://localhost:8080/",
     "height": 785
    },
    "colab_type": "code",
    "id": "EUOgzExezkYS",
    "outputId": "928f8f65-45a0-4191-edf6-cfc01cfd8fdd"
   },
   "outputs": [
    {
     "name": "stdout",
     "output_type": "stream",
     "text": [
      "Namespace(batch_size=10, cfg='cfg/plane-drone.cfg', conf_thres=0.001, data='data/plane_drone_val.data', img_size=416, iou_thres=0.5, nms_thres=0.5, save_json=True, weights='weights/best.pt')\n",
      "Using CUDA device0 _CudaDeviceProperties(name='Tesla P100-PCIE-16GB', total_memory=16280MB)\n",
      "\n",
      "data/plane_drone_val.txt\n",
      "[]\n",
      "                         Class    Images   Targets         P         R       mAP        F1: 100%|█| 31/31 [00:41<00:00,  1.29s/it]\n",
      "                           all       301       418   0.00935     0.521    0.0922    0.0183\n",
      "                         drone       301       152   0.00666     0.526    0.0771    0.0132\n",
      "                      airplane       301       266     0.012     0.515     0.107    0.0235\n",
      "Traceback (most recent call last):\n",
      "  File \"test.py\", line 216, in <module>\n",
      "    opt.save_json)\n",
      "  File \"test.py\", line 172, in test\n",
      "    from pycocotools.coco import COCO\n",
      "ImportError: No module named 'pycocotools'\n"
     ]
    }
   ],
   "source": [
    "!sudo python3 test.py --data data/plane_drone_val.data --cfg cfg/plane-drone.cfg --weights weights/best.pt --save-json --img-size 416 --batch-size 10"
   ]
  },
  {
   "cell_type": "code",
   "execution_count": 8,
   "metadata": {},
   "outputs": [
    {
     "ename": "NameError",
     "evalue": "name 'Image' is not defined",
     "output_type": "error",
     "traceback": [
      "\u001b[0;31m---------------------------------------------------------------------------\u001b[0m",
      "\u001b[0;31mNameError\u001b[0m                                 Traceback (most recent call last)",
      "\u001b[0;32m<ipython-input-8-65f21474fe63>\u001b[0m in \u001b[0;36m<module>\u001b[0;34m\u001b[0m\n\u001b[1;32m      1\u001b[0m \u001b[0mget_ipython\u001b[0m\u001b[0;34m(\u001b[0m\u001b[0;34m)\u001b[0m\u001b[0;34m.\u001b[0m\u001b[0msystem\u001b[0m\u001b[0;34m(\u001b[0m\u001b[0;34m'sudo python3 -c \"from utils import utils; utils.plot_results()\"'\u001b[0m\u001b[0;34m)\u001b[0m\u001b[0;34m\u001b[0m\u001b[0;34m\u001b[0m\u001b[0m\n\u001b[0;32m----> 2\u001b[0;31m \u001b[0mImage\u001b[0m\u001b[0;34m(\u001b[0m\u001b[0mfilename\u001b[0m\u001b[0;34m=\u001b[0m\u001b[0;34m'results.png'\u001b[0m\u001b[0;34m,\u001b[0m \u001b[0mwidth\u001b[0m\u001b[0;34m=\u001b[0m\u001b[0;36m800\u001b[0m\u001b[0;34m)\u001b[0m\u001b[0;34m\u001b[0m\u001b[0;34m\u001b[0m\u001b[0m\n\u001b[0m",
      "\u001b[0;31mNameError\u001b[0m: name 'Image' is not defined"
     ]
    }
   ],
   "source": [
    "!sudo python3 -c \"from utils import utils; utils.plot_results()\"\n",
    "Image(filename='results.png', width=800)"
   ]
  },
  {
   "cell_type": "code",
   "execution_count": null,
   "metadata": {
    "colab": {},
    "colab_type": "code",
    "id": "BXVhRoJXzxaF"
   },
   "outputs": [],
   "source": [
    "!python3 detect.py\n",
    "Image(filename='output/zidane.jpg', width=600)"
   ]
  },
  {
   "cell_type": "code",
   "execution_count": null,
   "metadata": {},
   "outputs": [],
   "source": []
  },
  {
   "cell_type": "code",
   "execution_count": null,
   "metadata": {
    "colab": {},
    "colab_type": "code",
    "id": "UtZx_SQS7B2L"
   },
   "outputs": [],
   "source": []
  }
 ],
 "metadata": {
  "accelerator": "GPU",
  "colab": {
   "collapsed_sections": [],
   "name": "CHL7001-READY-Drone-vs-Plane.ipynb",
   "provenance": [],
   "version": "0.3.2"
  },
  "kernelspec": {
   "display_name": "Python 3",
   "language": "python",
   "name": "python3"
  },
  "language_info": {
   "codemirror_mode": {
    "name": "ipython",
    "version": 3
   },
   "file_extension": ".py",
   "mimetype": "text/x-python",
   "name": "python",
   "nbconvert_exporter": "python",
   "pygments_lexer": "ipython3",
   "version": "3.7.3"
  }
 },
 "nbformat": 4,
 "nbformat_minor": 2
}
