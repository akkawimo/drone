{
 "cells": [
  {
   "cell_type": "code",
   "execution_count": 1,
   "metadata": {},
   "outputs": [
    {
     "name": "stdout",
     "output_type": "stream",
     "text": [
      "/home/jupyter/drone/transfer\n"
     ]
    }
   ],
   "source": [
    "!pwd"
   ]
  },
  {
   "cell_type": "code",
   "execution_count": 3,
   "metadata": {},
   "outputs": [
    {
     "name": "stdout",
     "output_type": "stream",
     "text": [
      "/home/jupyter/drone\n",
      "/home/jupyter/drone/coco\n",
      "--2019-08-23 17:43:19--  https://pjreddie.com/media/files/train2014.zip\n",
      "Resolving pjreddie.com (pjreddie.com)... 128.208.4.108\n",
      "Connecting to pjreddie.com (pjreddie.com)|128.208.4.108|:443... connected.\n",
      "HTTP request sent, awaiting response... 200 OK\n",
      "Length: 13510435630 (13G) [application/zip]\n",
      "Saving to: ‘train2014.zip’\n",
      "\n",
      "train2014.zip       100%[===================>]  12.58G  18.3MB/s    in 8m 48s  \n",
      "\n",
      "2019-08-23 17:52:07 (24.4 MB/s) - ‘train2014.zip’ saved [13510435630/13510435630]\n",
      "\n",
      "--2019-08-23 17:52:07--  https://pjreddie.com/media/files/val2014.zip\n",
      "Resolving pjreddie.com (pjreddie.com)... 128.208.4.108\n",
      "Connecting to pjreddie.com (pjreddie.com)|128.208.4.108|:443... connected.\n",
      "HTTP request sent, awaiting response... 200 OK\n",
      "Length: 6645013297 (6.2G) [application/zip]\n",
      "Saving to: ‘val2014.zip’\n",
      "\n",
      "val2014.zip         100%[===================>]   6.19G  29.1MB/s    in 4m 13s  \n",
      "\n",
      "2019-08-23 17:56:20 (25.1 MB/s) - ‘val2014.zip’ saved [6645013297/6645013297]\n",
      "\n"
     ]
    }
   ],
   "source": [
    "%cd .. \n",
    "%cd coco\n",
    "!bash get_coco_dataset_images.sh"
   ]
  },
  {
   "cell_type": "code",
   "execution_count": 4,
   "metadata": {},
   "outputs": [
    {
     "name": "stdout",
     "output_type": "stream",
     "text": [
      "Fix archive (-F) - assume mostly intact archive\n",
      " copying: instances_train2014.json\n",
      "  error:  invalid compressed data to inflate instances_train2014.json\n"
     ]
    }
   ],
   "source": [
    "!bash unzip_annotations.sh "
   ]
  },
  {
   "cell_type": "code",
   "execution_count": 1,
   "metadata": {},
   "outputs": [
    {
     "name": "stdout",
     "output_type": "stream",
     "text": [
      "PyTorch 1.1.0 _CudaDeviceProperties(name='Tesla P100-PCIE-16GB', major=6, minor=0, total_memory=16280MB, multi_processor_count=56)\n"
     ]
    }
   ],
   "source": [
    "import time\n",
    "import glob\n",
    "import torch\n",
    "import os \n",
    "from IPython.display import Image, clear_output\n",
    "print('PyTorch %s %s' % (torch.__version__, torch.cuda.get_device_properties(0) if torch.cuda.is_available() else 'CPU'))"
   ]
  },
  {
   "cell_type": "code",
   "execution_count": 2,
   "metadata": {
    "colab": {
     "base_uri": "https://localhost:8080/",
     "height": 68
    },
    "colab_type": "code",
    "id": "L1iGju004xQ6",
    "outputId": "b5ebf519-e2ff-4e81-dce8-5fe613f27335"
   },
   "outputs": [
    {
     "name": "stdout",
     "output_type": "stream",
     "text": [
      "Requirement already satisfied: cython in /opt/anaconda3/lib/python3.7/site-packages (0.29.6)\n",
      "Collecting nvidia-ml-py3\n",
      "  Downloading https://files.pythonhosted.org/packages/6d/64/cce82bddb80c0b0f5c703bbdafa94bfb69a1c5ad7a79cff00b482468f0d3/nvidia-ml-py3-7.352.0.tar.gz\n",
      "Building wheels for collected packages: nvidia-ml-py3\n",
      "  Building wheel for nvidia-ml-py3 (setup.py) ... \u001b[?25ldone\n",
      "\u001b[?25h  Stored in directory: /home/jupyter/.cache/pip/wheels/e4/1d/06/640c93f5270d67d0247f30be91f232700d19023f9e66d735c7\n",
      "Successfully built nvidia-ml-py3\n",
      "Installing collected packages: nvidia-ml-py3\n",
      "Successfully installed nvidia-ml-py3-7.352.0\n",
      "Collecting numpy (from -r requirements.txt (line 6))\n",
      "\u001b[?25l  Downloading https://files.pythonhosted.org/packages/05/4b/55cfbfd3e5e85016eeef9f21c0ec809d978706a0d60b62cc28aeec8c792f/numpy-1.17.0-cp37-cp37m-manylinux1_x86_64.whl (20.3MB)\n",
      "\u001b[K    100% |████████████████████████████████| 20.3MB 2.2MB/s \n",
      "\u001b[?25hRequirement already up-to-date: opencv-python in /opt/anaconda3/lib/python3.7/site-packages (from -r requirements.txt (line 7)) (4.1.0.25)\n",
      "Collecting torch>=1.1.0 (from -r requirements.txt (line 8))\n",
      "\u001b[?25l  Downloading https://files.pythonhosted.org/packages/05/65/5248be50c55ab7429dd5c11f5e2f9f5865606b80e854ca63139ad1a584f2/torch-1.2.0-cp37-cp37m-manylinux1_x86_64.whl (748.9MB)\n",
      "\u001b[K    100% |████████████████████████████████| 748.9MB 58kB/s \n",
      "\u001b[33mRetrying (Retry(total=4, connect=None, read=None, redirect=None, status=None)) after connection broken by 'ProtocolError('Connection aborted.', OSError(\"(104, 'ECONNRESET')\"))': /simple/matplotlib/\u001b[0m\n",
      "\u001b[?25hCollecting matplotlib (from -r requirements.txt (line 9))\n",
      "\u001b[?25l  Downloading https://files.pythonhosted.org/packages/19/7a/60bd79c5d79559150f8bba866dd7d434f0a170312e4d15e8aefa5faba294/matplotlib-3.1.1-cp37-cp37m-manylinux1_x86_64.whl (13.1MB)\n",
      "\u001b[K    100% |████████████████████████████████| 13.1MB 5.1MB/s \n",
      "\u001b[?25hCollecting pycocotools (from -r requirements.txt (line 10))\n",
      "\u001b[?25l  Downloading https://files.pythonhosted.org/packages/96/84/9a07b1095fd8555ba3f3d519517c8743c2554a245f9476e5e39869f948d2/pycocotools-2.0.0.tar.gz (1.5MB)\n",
      "\u001b[K    100% |████████████████████████████████| 1.5MB 24.5MB/s \n",
      "\u001b[?25hCollecting tqdm (from -r requirements.txt (line 11))\n",
      "\u001b[?25l  Downloading https://files.pythonhosted.org/packages/a5/83/06029af22fe06b8a7be013aeae5e104b3ed26867e5d4ca91408b30aa602e/tqdm-4.34.0-py2.py3-none-any.whl (50kB)\n",
      "\u001b[K    100% |████████████████████████████████| 51kB 20.5MB/s \n",
      "\u001b[?25hCollecting tb-nightly (from -r requirements.txt (line 12))\n",
      "\u001b[?25l  Downloading https://files.pythonhosted.org/packages/42/82/c523eafc56f34e5918febc5c0598be64fc645ed9b28ead44d0b1005f6f5b/tb_nightly-1.15.0a20190822-py3-none-any.whl (3.7MB)\n",
      "\u001b[K    100% |████████████████████████████████| 3.8MB 11.6MB/s \n",
      "\u001b[?25hRequirement already up-to-date: future in /opt/anaconda3/lib/python3.7/site-packages (from -r requirements.txt (line 13)) (0.17.1)\n",
      "Requirement already satisfied, skipping upgrade: cycler>=0.10 in /opt/anaconda3/lib/python3.7/site-packages (from matplotlib->-r requirements.txt (line 9)) (0.10.0)\n",
      "Requirement already satisfied, skipping upgrade: kiwisolver>=1.0.1 in /opt/anaconda3/lib/python3.7/site-packages (from matplotlib->-r requirements.txt (line 9)) (1.0.1)\n",
      "Requirement already satisfied, skipping upgrade: pyparsing!=2.0.4,!=2.1.2,!=2.1.6,>=2.0.1 in /opt/anaconda3/lib/python3.7/site-packages (from matplotlib->-r requirements.txt (line 9)) (2.3.1)\n",
      "Requirement already satisfied, skipping upgrade: python-dateutil>=2.1 in /opt/anaconda3/lib/python3.7/site-packages (from matplotlib->-r requirements.txt (line 9)) (2.8.0)\n",
      "Requirement already satisfied, skipping upgrade: werkzeug>=0.11.15 in /opt/anaconda3/lib/python3.7/site-packages (from tb-nightly->-r requirements.txt (line 12)) (0.14.1)\n",
      "Requirement already satisfied, skipping upgrade: grpcio>=1.6.3 in /opt/anaconda3/lib/python3.7/site-packages (from tb-nightly->-r requirements.txt (line 12)) (1.22.0)\n",
      "Collecting setuptools>=41.0.0 (from tb-nightly->-r requirements.txt (line 12))\n",
      "\u001b[?25l  Downloading https://files.pythonhosted.org/packages/b2/86/095d2f7829badc207c893dd4ac767e871f6cd547145df797ea26baea4e2e/setuptools-41.2.0-py2.py3-none-any.whl (576kB)\n",
      "\u001b[K    100% |████████████████████████████████| 583kB 31.8MB/s \n",
      "\u001b[?25hRequirement already satisfied, skipping upgrade: markdown>=2.6.8 in /opt/anaconda3/lib/python3.7/site-packages (from tb-nightly->-r requirements.txt (line 12)) (3.1.1)\n",
      "Requirement already satisfied, skipping upgrade: protobuf>=3.6.0 in /opt/anaconda3/lib/python3.7/site-packages (from tb-nightly->-r requirements.txt (line 12)) (3.9.0)\n",
      "Collecting absl-py>=0.4 (from tb-nightly->-r requirements.txt (line 12))\n",
      "\u001b[?25l  Downloading https://files.pythonhosted.org/packages/da/3f/9b0355080b81b15ba6a9ffcf1f5ea39e307a2778b2f2dc8694724e8abd5b/absl-py-0.7.1.tar.gz (99kB)\n",
      "\u001b[K    100% |████████████████████████████████| 102kB 33.9MB/s \n",
      "\u001b[?25hRequirement already satisfied, skipping upgrade: six>=1.10.0 in /opt/anaconda3/lib/python3.7/site-packages (from tb-nightly->-r requirements.txt (line 12)) (1.10.0)\n",
      "Requirement already satisfied, skipping upgrade: wheel>=0.26; python_version >= \"3\" in /opt/anaconda3/lib/python3.7/site-packages (from tb-nightly->-r requirements.txt (line 12)) (0.33.1)\n",
      "Building wheels for collected packages: pycocotools, absl-py\n",
      "  Building wheel for pycocotools (setup.py) ... \u001b[?25ldone\n",
      "\u001b[?25h  Stored in directory: /home/jupyter/.cache/pip/wheels/dc/e6/36/0e1ae88c868eb42d3f92181b1c9bbd0b217a7ec3da6bd62e55\n",
      "  Building wheel for absl-py (setup.py) ... \u001b[?25ldone\n",
      "\u001b[?25h  Stored in directory: /home/jupyter/.cache/pip/wheels/ee/98/38/46cbcc5a93cfea5492d19c38562691ddb23b940176c14f7b48\n",
      "Successfully built pycocotools absl-py\n",
      "\u001b[31mthinc 6.12.1 has requirement msgpack<0.6.0,>=0.5.6, but you'll have msgpack 0.6.1 which is incompatible.\u001b[0m\n",
      "\u001b[31mjsonschema 3.0.1 has requirement six>=1.11.0, but you'll have six 1.10.0 which is incompatible.\u001b[0m\n",
      "\u001b[31mfairing 0.5.3 has requirement six>=1.11.0, but you'll have six 1.10.0 which is incompatible.\u001b[0m\n",
      "\u001b[31mfairing 0.5.3 has requirement urllib3==1.24.2, but you'll have urllib3 1.24.1 which is incompatible.\u001b[0m\n",
      "Installing collected packages: numpy, torch, matplotlib, pycocotools, tqdm, setuptools, absl-py, tb-nightly\n",
      "  Found existing installation: numpy 1.16.2\n",
      "    Uninstalling numpy-1.16.2:\n",
      "      Successfully uninstalled numpy-1.16.2\n",
      "  Found existing installation: torch 1.1.0\n",
      "    Uninstalling torch-1.1.0:\n",
      "      Successfully uninstalled torch-1.1.0\n",
      "  Found existing installation: matplotlib 3.0.3\n",
      "    Uninstalling matplotlib-3.0.3:\n",
      "      Successfully uninstalled matplotlib-3.0.3\n",
      "  Found existing installation: tqdm 4.31.1\n",
      "    Uninstalling tqdm-4.31.1:\n",
      "      Successfully uninstalled tqdm-4.31.1\n",
      "  Found existing installation: setuptools 40.8.0\n",
      "    Uninstalling setuptools-40.8.0:\n",
      "      Successfully uninstalled setuptools-40.8.0\n",
      "Successfully installed absl-py-0.7.1 matplotlib-3.1.1 numpy-1.17.0 pycocotools-2.0.0 setuptools-41.2.0 tb-nightly-1.15.0a20190822 torch-1.2.0 tqdm-4.34.0\n"
     ]
    }
   ],
   "source": [
    "!pip install cython\n",
    "!pip install nvidia-ml-py3\n",
    "!pip install -U -r requirements.txt"
   ]
  },
  {
   "cell_type": "code",
   "execution_count": 3,
   "metadata": {
    "colab": {
     "base_uri": "https://localhost:8080/",
     "height": 751
    },
    "colab_type": "code",
    "id": "l_P9dA-lzWXW",
    "outputId": "b9558295-c7a6-4dcf-9919-05a36e46dd28"
   },
   "outputs": [
    {
     "name": "stdout",
     "output_type": "stream",
     "text": [
      "Namespace(accumulate=2, batch_size=5, bucket='', cache_images=False, cfg='cfg/plane-drone.cfg', data='data/plane_drone_val.data', epochs=1, evolve=False, img_size=416, img_weights=False, multi_scale=False, nosave=False, notest=False, num_workers=16, rect=False, resume=False, transfer=False, xywh=False)\n",
      "Using CUDA device0 _CudaDeviceProperties(name='Tesla P100-PCIE-16GB', total_memory=16280MB)\n",
      "\n",
      "Downloading https://pjreddie.com/media/files/darknet53.conv.74\n",
      "  % Total    % Received % Xferd  Average Speed   Time    Time     Time  Current\n",
      "                                 Dload  Upload   Total   Spent    Left  Speed\n",
      "100  154M  100  154M    0     0  29.9M      0  0:00:05  0:00:05 --:--:-- 36.2M\n",
      "data/plane_drone_train.txt\n",
      "[]\n",
      "Model Summary: 222 layers, 6.15291e+07 parameters, 6.15291e+07 gradients\n",
      "\n",
      "     Epoch   gpu_mem   GIoU/xy        wh       obj       cls     total   targets  img_size\n",
      "       0/0      1.3G       0.2         0     0.713         5      5.91         1       416: 100%|█| 143/143 [00:35<00:00,  1.44it/s]\n",
      "data/plane_drone_val.txt\n",
      "[]\n",
      "                         Class    Images   Targets         P         R       mAP        F1: 100%|█| 61/61 [00:11<00:00,  2.77it/s]\n",
      "                           all       301       418         0         0         0         0\n",
      "1 epochs completed in 0.014 hours.\n"
     ]
    }
   ],
   "source": [
    "!sudo python3 train.py --cfg cfg/plane-drone.cfg --epochs 1 --batch-size 5 --data data/plane_drone_val.data"
   ]
  },
  {
   "cell_type": "code",
   "execution_count": 7,
   "metadata": {
    "colab": {
     "base_uri": "https://localhost:8080/",
     "height": 785
    },
    "colab_type": "code",
    "id": "EUOgzExezkYS",
    "outputId": "928f8f65-45a0-4191-edf6-cfc01cfd8fdd"
   },
   "outputs": [
    {
     "name": "stdout",
     "output_type": "stream",
     "text": [
      "Namespace(batch_size=5, cfg='cfg/plane-drone.cfg', conf_thres=0.001, data='data/plane_drone_val.data', img_size=416, iou_thres=0.5, nms_thres=0.5, save_json=False, weights='weights/best.pt')\n",
      "Using CUDA device0 _CudaDeviceProperties(name='Tesla P100-PCIE-16GB', total_memory=16280MB)\n",
      "\n",
      "data/plane_drone_val.txt\n",
      "[]\n",
      "                         Class    Images   Targets         P         R       mAP        F1: 100%|█| 61/61 [00:59<00:00,  1.07s/it]\n",
      "                           all       301       418  0.000608    0.0352  4.98e-05   0.00119\n",
      "                         drone       301       152   4.3e-05   0.00658  4.43e-07  8.54e-05\n",
      "                      airplane       301       266   0.00117    0.0639  9.92e-05    0.0023\n"
     ]
    }
   ],
   "source": [
    "!sudo python3 test.py --data data/plane_drone_val.data --cfg cfg/plane-drone.cfg --weights weights/best.pt --img-size 416 --batch-size 5"
   ]
  },
  {
   "cell_type": "code",
   "execution_count": 9,
   "metadata": {},
   "outputs": [
    {
     "name": "stdout",
     "output_type": "stream",
     "text": [
      "Traceback (most recent call last):\n",
      "  File \"<string>\", line 1, in <module>\n",
      "  File \"/home/jupyter/drone/transfer/utils/utils.py\", line 766, in plot_results\n",
      "    n = results.shape[1]  # number of rows\n",
      "IndexError: tuple index out of range\n",
      "Exception ignored in: <function WeakValueDictionary.__init__.<locals>.remove at 0x7f7ecfda7c80>\n",
      "Traceback (most recent call last):\n",
      "  File \"/usr/lib/python3.5/weakref.py\", line 117, in remove\n",
      "TypeError: 'NoneType' object is not callable\n"
     ]
    }
   ],
   "source": [
    "!sudo python3 -c \"from utils import utils; utils.plot_results()\"\n",
    "#Image(filename='results.png', width=800)"
   ]
  },
  {
   "cell_type": "code",
   "execution_count": 14,
   "metadata": {
    "colab": {},
    "colab_type": "code",
    "id": "BXVhRoJXzxaF"
   },
   "outputs": [
    {
     "name": "stdout",
     "output_type": "stream",
     "text": [
      "Namespace(cfg='cfg/yolov3-spp.cfg', conf_thres=0.3, data='data/coco.data', fourcc='mp4v', half=False, images='drone-vs-plane/images/val-test-all', img_size=416, nms_thres=0.5, output='output', webcam=False, weights='weights/best.pt')\n",
      "Using CUDA device0 _CudaDeviceProperties(name='Tesla P100-PCIE-16GB', total_memory=16280MB)\n",
      "\n",
      "Traceback (most recent call last):\n",
      "  File \"detect.py\", line 154, in <module>\n",
      "    output=opt.output)\n",
      "  File \"detect.py\", line 37, in detect\n",
      "    model.load_state_dict(torch.load(weights, map_location=device)['model'])\n",
      "  File \"/opt/anaconda3/lib/python3.7/site-packages/torch/nn/modules/module.py\", line 845, in load_state_dict\n",
      "    self.__class__.__name__, \"\\n\\t\".join(error_msgs)))\n",
      "RuntimeError: Error(s) in loading state_dict for Darknet:\n",
      "\tMissing key(s) in state_dict: \"module_list.85.Conv2d.weight\", \"module_list.85.BatchNorm2d.weight\", \"module_list.85.BatchNorm2d.bias\", \"module_list.85.BatchNorm2d.running_mean\", \"module_list.85.BatchNorm2d.running_var\", \"module_list.86.Conv2d.weight\", \"module_list.86.BatchNorm2d.weight\", \"module_list.86.BatchNorm2d.bias\", \"module_list.86.BatchNorm2d.running_mean\", \"module_list.86.BatchNorm2d.running_var\", \"module_list.88.Conv2d.bias\", \"module_list.94.Conv2d.weight\", \"module_list.94.BatchNorm2d.weight\", \"module_list.94.BatchNorm2d.bias\", \"module_list.94.BatchNorm2d.running_mean\", \"module_list.94.BatchNorm2d.running_var\", \"module_list.95.Conv2d.weight\", \"module_list.95.BatchNorm2d.weight\", \"module_list.95.BatchNorm2d.bias\", \"module_list.95.BatchNorm2d.running_mean\", \"module_list.95.BatchNorm2d.running_var\", \"module_list.97.Conv2d.weight\", \"module_list.97.BatchNorm2d.weight\", \"module_list.97.BatchNorm2d.bias\", \"module_list.97.BatchNorm2d.running_mean\", \"module_list.97.BatchNorm2d.running_var\", \"module_list.98.Conv2d.weight\", \"module_list.98.BatchNorm2d.weight\", \"module_list.98.BatchNorm2d.bias\", \"module_list.98.BatchNorm2d.running_mean\", \"module_list.98.BatchNorm2d.running_var\", \"module_list.100.Conv2d.bias\", \"module_list.106.Conv2d.weight\", \"module_list.106.BatchNorm2d.weight\", \"module_list.106.BatchNorm2d.bias\", \"module_list.106.BatchNorm2d.running_mean\", \"module_list.106.BatchNorm2d.running_var\", \"module_list.107.Conv2d.weight\", \"module_list.107.BatchNorm2d.weight\", \"module_list.107.BatchNorm2d.bias\", \"module_list.107.BatchNorm2d.running_mean\", \"module_list.107.BatchNorm2d.running_var\", \"module_list.108.Conv2d.weight\", \"module_list.108.BatchNorm2d.weight\", \"module_list.108.BatchNorm2d.bias\", \"module_list.108.BatchNorm2d.running_mean\", \"module_list.108.BatchNorm2d.running_var\", \"module_list.109.Conv2d.weight\", \"module_list.109.BatchNorm2d.weight\", \"module_list.109.BatchNorm2d.bias\", \"module_list.109.BatchNorm2d.running_mean\", \"module_list.109.BatchNorm2d.running_var\", \"module_list.110.Conv2d.weight\", \"module_list.110.BatchNorm2d.weight\", \"module_list.110.BatchNorm2d.bias\", \"module_list.110.BatchNorm2d.running_mean\", \"module_list.110.BatchNorm2d.running_var\", \"module_list.111.Conv2d.weight\", \"module_list.111.BatchNorm2d.weight\", \"module_list.111.BatchNorm2d.bias\", \"module_list.111.BatchNorm2d.running_mean\", \"module_list.111.BatchNorm2d.running_var\", \"module_list.112.Conv2d.weight\", \"module_list.112.Conv2d.bias\". \n",
      "\tUnexpected key(s) in state_dict: \"module_list.78.Conv2d.weight\", \"module_list.78.BatchNorm2d.weight\", \"module_list.78.BatchNorm2d.bias\", \"module_list.78.BatchNorm2d.running_mean\", \"module_list.78.BatchNorm2d.running_var\", \"module_list.78.BatchNorm2d.num_batches_tracked\", \"module_list.79.Conv2d.weight\", \"module_list.79.BatchNorm2d.weight\", \"module_list.79.BatchNorm2d.bias\", \"module_list.79.BatchNorm2d.running_mean\", \"module_list.79.BatchNorm2d.running_var\", \"module_list.79.BatchNorm2d.num_batches_tracked\", \"module_list.80.Conv2d.weight\", \"module_list.80.BatchNorm2d.weight\", \"module_list.80.BatchNorm2d.bias\", \"module_list.80.BatchNorm2d.running_mean\", \"module_list.80.BatchNorm2d.running_var\", \"module_list.80.BatchNorm2d.num_batches_tracked\", \"module_list.81.Conv2d.weight\", \"module_list.81.Conv2d.bias\", \"module_list.88.BatchNorm2d.weight\", \"module_list.88.BatchNorm2d.bias\", \"module_list.88.BatchNorm2d.running_mean\", \"module_list.88.BatchNorm2d.running_var\", \"module_list.88.BatchNorm2d.num_batches_tracked\", \"module_list.89.Conv2d.weight\", \"module_list.89.BatchNorm2d.weight\", \"module_list.89.BatchNorm2d.bias\", \"module_list.89.BatchNorm2d.running_mean\", \"module_list.89.BatchNorm2d.running_var\", \"module_list.89.BatchNorm2d.num_batches_tracked\", \"module_list.90.Conv2d.weight\", \"module_list.90.BatchNorm2d.weight\", \"module_list.90.BatchNorm2d.bias\", \"module_list.90.BatchNorm2d.running_mean\", \"module_list.90.BatchNorm2d.running_var\", \"module_list.90.BatchNorm2d.num_batches_tracked\", \"module_list.92.Conv2d.weight\", \"module_list.92.BatchNorm2d.weight\", \"module_list.92.BatchNorm2d.bias\", \"module_list.92.BatchNorm2d.running_mean\", \"module_list.92.BatchNorm2d.running_var\", \"module_list.92.BatchNorm2d.num_batches_tracked\", \"module_list.93.Conv2d.weight\", \"module_list.93.Conv2d.bias\", \"module_list.100.BatchNorm2d.weight\", \"module_list.100.BatchNorm2d.bias\", \"module_list.100.BatchNorm2d.running_mean\", \"module_list.100.BatchNorm2d.running_var\", \"module_list.100.BatchNorm2d.num_batches_tracked\", \"module_list.101.Conv2d.weight\", \"module_list.101.BatchNorm2d.weight\", \"module_list.101.BatchNorm2d.bias\", \"module_list.101.BatchNorm2d.running_mean\", \"module_list.101.BatchNorm2d.running_var\", \"module_list.101.BatchNorm2d.num_batches_tracked\", \"module_list.102.Conv2d.weight\", \"module_list.102.BatchNorm2d.weight\", \"module_list.102.BatchNorm2d.bias\", \"module_list.102.BatchNorm2d.running_mean\", \"module_list.102.BatchNorm2d.running_var\", \"module_list.102.BatchNorm2d.num_batches_tracked\", \"module_list.104.Conv2d.weight\", \"module_list.104.BatchNorm2d.weight\", \"module_list.104.BatchNorm2d.bias\", \"module_list.104.BatchNorm2d.running_mean\", \"module_list.104.BatchNorm2d.running_var\", \"module_list.104.BatchNorm2d.num_batches_tracked\", \"module_list.105.Conv2d.weight\", \"module_list.105.Conv2d.bias\". \n",
      "\tsize mismatch for module_list.84.Conv2d.weight: copying a param with shape torch.Size([256, 512, 1, 1]) from checkpoint, the shape in current model is torch.Size([512, 2048, 1, 1]).\n",
      "\tsize mismatch for module_list.84.BatchNorm2d.weight: copying a param with shape torch.Size([256]) from checkpoint, the shape in current model is torch.Size([512]).\n",
      "\tsize mismatch for module_list.84.BatchNorm2d.bias: copying a param with shape torch.Size([256]) from checkpoint, the shape in current model is torch.Size([512]).\n",
      "\tsize mismatch for module_list.84.BatchNorm2d.running_mean: copying a param with shape torch.Size([256]) from checkpoint, the shape in current model is torch.Size([512]).\n",
      "\tsize mismatch for module_list.84.BatchNorm2d.running_var: copying a param with shape torch.Size([256]) from checkpoint, the shape in current model is torch.Size([512]).\n",
      "\tsize mismatch for module_list.87.Conv2d.weight: copying a param with shape torch.Size([256, 768, 1, 1]) from checkpoint, the shape in current model is torch.Size([1024, 512, 3, 3]).\n",
      "\tsize mismatch for module_list.87.BatchNorm2d.weight: copying a param with shape torch.Size([256]) from checkpoint, the shape in current model is torch.Size([1024]).\n",
      "\tsize mismatch for module_list.87.BatchNorm2d.bias: copying a param with shape torch.Size([256]) from checkpoint, the shape in current model is torch.Size([1024]).\n",
      "\tsize mismatch for module_list.87.BatchNorm2d.running_mean: copying a param with shape torch.Size([256]) from checkpoint, the shape in current model is torch.Size([1024]).\n",
      "\tsize mismatch for module_list.87.BatchNorm2d.running_var: copying a param with shape torch.Size([256]) from checkpoint, the shape in current model is torch.Size([1024]).\n",
      "\tsize mismatch for module_list.88.Conv2d.weight: copying a param with shape torch.Size([512, 256, 3, 3]) from checkpoint, the shape in current model is torch.Size([255, 1024, 1, 1]).\n",
      "\tsize mismatch for module_list.96.Conv2d.weight: copying a param with shape torch.Size([128, 256, 1, 1]) from checkpoint, the shape in current model is torch.Size([256, 512, 1, 1]).\n",
      "\tsize mismatch for module_list.96.BatchNorm2d.weight: copying a param with shape torch.Size([128]) from checkpoint, the shape in current model is torch.Size([256]).\n",
      "\tsize mismatch for module_list.96.BatchNorm2d.bias: copying a param with shape torch.Size([128]) from checkpoint, the shape in current model is torch.Size([256]).\n",
      "\tsize mismatch for module_list.96.BatchNorm2d.running_mean: copying a param with shape torch.Size([128]) from checkpoint, the shape in current model is torch.Size([256]).\n",
      "\tsize mismatch for module_list.96.BatchNorm2d.running_var: copying a param with shape torch.Size([128]) from checkpoint, the shape in current model is torch.Size([256]).\n",
      "\tsize mismatch for module_list.99.Conv2d.weight: copying a param with shape torch.Size([128, 384, 1, 1]) from checkpoint, the shape in current model is torch.Size([512, 256, 3, 3]).\n",
      "\tsize mismatch for module_list.99.BatchNorm2d.weight: copying a param with shape torch.Size([128]) from checkpoint, the shape in current model is torch.Size([512]).\n",
      "\tsize mismatch for module_list.99.BatchNorm2d.bias: copying a param with shape torch.Size([128]) from checkpoint, the shape in current model is torch.Size([512]).\n",
      "\tsize mismatch for module_list.99.BatchNorm2d.running_mean: copying a param with shape torch.Size([128]) from checkpoint, the shape in current model is torch.Size([512]).\n",
      "\tsize mismatch for module_list.99.BatchNorm2d.running_var: copying a param with shape torch.Size([128]) from checkpoint, the shape in current model is torch.Size([512]).\n",
      "\tsize mismatch for module_list.100.Conv2d.weight: copying a param with shape torch.Size([256, 128, 3, 3]) from checkpoint, the shape in current model is torch.Size([255, 512, 1, 1]).\n",
      "[Errno 2] No such file or directory: 'transfer'\n",
      "/home/jupyter/drone/transfer\n"
     ]
    }
   ],
   "source": [
    "!python3 detect.py --weights weights/best.pt --images drone-vs-plane/images/val-test-all\n",
    "#Image(filename='output/zidane.jpg', width=600)\n",
    "%cd transfer"
   ]
  },
  {
   "cell_type": "code",
   "execution_count": null,
   "metadata": {},
   "outputs": [],
   "source": []
  },
  {
   "cell_type": "code",
   "execution_count": null,
   "metadata": {
    "colab": {},
    "colab_type": "code",
    "id": "UtZx_SQS7B2L"
   },
   "outputs": [],
   "source": []
  }
 ],
 "metadata": {
  "accelerator": "GPU",
  "colab": {
   "collapsed_sections": [],
   "name": "CHL7001-READY-Drone-vs-Plane.ipynb",
   "provenance": [],
   "version": "0.3.2"
  },
  "kernelspec": {
   "display_name": "Python 3",
   "language": "python",
   "name": "python3"
  },
  "language_info": {
   "codemirror_mode": {
    "name": "ipython",
    "version": 3
   },
   "file_extension": ".py",
   "mimetype": "text/x-python",
   "name": "python",
   "nbconvert_exporter": "python",
   "pygments_lexer": "ipython3",
   "version": "3.7.3"
  }
 },
 "nbformat": 4,
 "nbformat_minor": 2
}
