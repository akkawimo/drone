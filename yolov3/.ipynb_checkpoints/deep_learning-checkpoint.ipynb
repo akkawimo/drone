{
 "cells": [
  {
   "cell_type": "code",
   "execution_count": 9,
   "metadata": {},
   "outputs": [
    {
     "name": "stdout",
     "output_type": "stream",
     "text": [
      "/home/jupyter/drone/yolov3\n"
     ]
    }
   ],
   "source": [
    "%cd drone/yolov3/"
   ]
  },
  {
   "cell_type": "code",
   "execution_count": 12,
   "metadata": {
    "colab": {
     "base_uri": "https://localhost:8080/",
     "height": 68
    },
    "colab_type": "code",
    "id": "L1iGju004xQ6",
    "outputId": "b5ebf519-e2ff-4e81-dce8-5fe613f27335"
   },
   "outputs": [
    {
     "name": "stdout",
     "output_type": "stream",
     "text": [
      "Requirement already satisfied: nvidia-ml-py3 in /opt/anaconda3/lib/python3.7/site-packages (7.352.0)\n",
      "Requirement already up-to-date: numpy in /opt/anaconda3/lib/python3.7/site-packages (from -r requirements.txt (line 6)) (1.17.0)\n",
      "Requirement already up-to-date: opencv-python in /opt/anaconda3/lib/python3.7/site-packages (from -r requirements.txt (line 7)) (4.1.0.25)\n",
      "Requirement already up-to-date: torch>=1.1.0 in /opt/anaconda3/lib/python3.7/site-packages (from -r requirements.txt (line 8)) (1.2.0)\n",
      "Requirement already up-to-date: matplotlib in /opt/anaconda3/lib/python3.7/site-packages (from -r requirements.txt (line 9)) (3.1.1)\n",
      "Requirement already up-to-date: pycocotools in /opt/anaconda3/lib/python3.7/site-packages (from -r requirements.txt (line 10)) (2.0.0)\n",
      "Requirement already up-to-date: tqdm in /opt/anaconda3/lib/python3.7/site-packages (from -r requirements.txt (line 11)) (4.33.0)\n",
      "Requirement already up-to-date: tb-nightly in /opt/anaconda3/lib/python3.7/site-packages (from -r requirements.txt (line 12)) (1.15.0a20190817)\n",
      "Requirement already up-to-date: future in /opt/anaconda3/lib/python3.7/site-packages (from -r requirements.txt (line 13)) (0.17.1)\n",
      "Requirement already satisfied, skipping upgrade: pyparsing!=2.0.4,!=2.1.2,!=2.1.6,>=2.0.1 in /opt/anaconda3/lib/python3.7/site-packages (from matplotlib->-r requirements.txt (line 9)) (2.3.1)\n",
      "Requirement already satisfied, skipping upgrade: cycler>=0.10 in /opt/anaconda3/lib/python3.7/site-packages (from matplotlib->-r requirements.txt (line 9)) (0.10.0)\n",
      "Requirement already satisfied, skipping upgrade: kiwisolver>=1.0.1 in /opt/anaconda3/lib/python3.7/site-packages (from matplotlib->-r requirements.txt (line 9)) (1.0.1)\n",
      "Requirement already satisfied, skipping upgrade: python-dateutil>=2.1 in /opt/anaconda3/lib/python3.7/site-packages (from matplotlib->-r requirements.txt (line 9)) (2.8.0)\n",
      "Requirement already satisfied, skipping upgrade: setuptools>=41.0.0 in /opt/anaconda3/lib/python3.7/site-packages (from tb-nightly->-r requirements.txt (line 12)) (41.1.0)\n",
      "Requirement already satisfied, skipping upgrade: absl-py>=0.4 in /opt/anaconda3/lib/python3.7/site-packages (from tb-nightly->-r requirements.txt (line 12)) (0.7.1)\n",
      "Requirement already satisfied, skipping upgrade: werkzeug>=0.11.15 in /opt/anaconda3/lib/python3.7/site-packages (from tb-nightly->-r requirements.txt (line 12)) (0.14.1)\n",
      "Requirement already satisfied, skipping upgrade: markdown>=2.6.8 in /opt/anaconda3/lib/python3.7/site-packages (from tb-nightly->-r requirements.txt (line 12)) (3.1.1)\n",
      "Requirement already satisfied, skipping upgrade: six>=1.10.0 in /opt/anaconda3/lib/python3.7/site-packages (from tb-nightly->-r requirements.txt (line 12)) (1.10.0)\n",
      "Requirement already satisfied, skipping upgrade: wheel>=0.26; python_version >= \"3\" in /opt/anaconda3/lib/python3.7/site-packages (from tb-nightly->-r requirements.txt (line 12)) (0.33.1)\n",
      "Requirement already satisfied, skipping upgrade: grpcio>=1.6.3 in /opt/anaconda3/lib/python3.7/site-packages (from tb-nightly->-r requirements.txt (line 12)) (1.22.0)\n",
      "Requirement already satisfied, skipping upgrade: protobuf>=3.6.0 in /opt/anaconda3/lib/python3.7/site-packages (from tb-nightly->-r requirements.txt (line 12)) (3.9.0)\n"
     ]
    }
   ],
   "source": [
    "### Setting up Torch env\n",
    "### if pip installed! Use pip or pip3\n",
    "!pip install nvidia-ml-py3\n",
    "!pip install -U -r requirements.txt\n"
   ]
  },
  {
   "cell_type": "code",
   "execution_count": 14,
   "metadata": {
    "colab": {
     "base_uri": "https://localhost:8080/",
     "height": 136
    },
    "colab_type": "code",
    "id": "MLfbeI435Bjv",
    "outputId": "c97e4ab2-c604-4f35-e7ab-962528b184c4"
   },
   "outputs": [],
   "source": [
    "from pycocotools.coco import COCO"
   ]
  },
  {
   "cell_type": "code",
   "execution_count": 26,
   "metadata": {},
   "outputs": [
    {
     "name": "stdout",
     "output_type": "stream",
     "text": [
      "/home/jupyter/drone/yolov3\n"
     ]
    }
   ],
   "source": [
    "!pwd"
   ]
  },
  {
   "cell_type": "code",
   "execution_count": 28,
   "metadata": {
    "colab": {
     "base_uri": "https://localhost:8080/",
     "height": 751
    },
    "colab_type": "code",
    "id": "l_P9dA-lzWXW",
    "outputId": "b9558295-c7a6-4dcf-9919-05a36e46dd28"
   },
   "outputs": [
    {
     "name": "stdout",
     "output_type": "stream",
     "text": [
      "Namespace(accumulate=2, batch_size=60, bucket='', cache_images=False, cfg='cfg/plane-drone.cfg', data='plane_drone_data/plane_drone_val.data', epochs=10, evolve=False, img_size=416, img_weights=False, multi_scale=False, nosave=False, notest=False, num_workers=4, rect=False, resume=False, transfer=False, xywh=False)\n",
      "Using CPU\n",
      "\n",
      "data/plane_drone_train.txt\n",
      "Traceback (most recent call last):\n",
      "  File \"train.py\", line 370, in <module>\n",
      "    accumulate=opt.accumulate)\n",
      "  File \"train.py\", line 170, in train\n",
      "    cache_images=opt.cache_images)\n",
      "  File \"/home/jupyter/drone/yolov3/utils/datasets.py\", line 167, in __init__\n",
      "    with open(path, 'r') as f:\n",
      "FileNotFoundError: [Errno 2] No such file or directory: 'data/plane_drone_train.txt'\n"
     ]
    }
   ],
   "source": [
    "!python3 train.py --cfg cfg/plane-drone.cfg --epochs 10 --batch-size 60 --data plane_drone_data/plane_drone_val.data"
   ]
  },
  {
   "cell_type": "code",
   "execution_count": 11,
   "metadata": {
    "colab": {
     "base_uri": "https://localhost:8080/",
     "height": 785
    },
    "colab_type": "code",
    "id": "EUOgzExezkYS",
    "outputId": "928f8f65-45a0-4191-edf6-cfc01cfd8fdd"
   },
   "outputs": [
    {
     "name": "stdout",
     "output_type": "stream",
     "text": [
      "--2019-08-13 16:32:54--  https://pjreddie.com/media/files/yolov3.weights\n",
      "Resolving pjreddie.com (pjreddie.com)... 128.208.4.108\n",
      "Connecting to pjreddie.com (pjreddie.com)|128.208.4.108|:443... connected.\n",
      "HTTP request sent, awaiting response... 200 OK\n",
      "Length: 248007048 (237M) [application/octet-stream]\n",
      "Saving to: ‘yolov3.weights’\n",
      "\n",
      "yolov3.weights      100%[===================>] 236.52M  9.65MB/s    in 30s     \n",
      "\n",
      "2019-08-13 16:33:25 (7.99 MB/s) - ‘yolov3.weights’ saved [248007048/248007048]\n",
      "\n",
      "--2019-08-13 16:33:25--  https://pjreddie.com/media/files/yolov3-tiny.weights\n",
      "Resolving pjreddie.com (pjreddie.com)... 128.208.4.108\n",
      "Connecting to pjreddie.com (pjreddie.com)|128.208.4.108|:443... connected.\n",
      "HTTP request sent, awaiting response... 200 OK\n",
      "Length: 35434956 (34M) [application/octet-stream]\n",
      "Saving to: ‘yolov3-tiny.weights’\n",
      "\n",
      "yolov3-tiny.weights 100%[===================>]  33.79M  7.96MB/s    in 4.8s    \n",
      "\n",
      "2019-08-13 16:33:30 (7.08 MB/s) - ‘yolov3-tiny.weights’ saved [35434956/35434956]\n",
      "\n",
      "--2019-08-13 16:33:30--  https://pjreddie.com/media/files/yolov3-spp.weights\n",
      "Resolving pjreddie.com (pjreddie.com)... 128.208.4.108\n",
      "Connecting to pjreddie.com (pjreddie.com)|128.208.4.108|:443... connected.\n",
      "HTTP request sent, awaiting response... 200 OK\n",
      "Length: 252209544 (241M) [application/octet-stream]\n",
      "Saving to: ‘yolov3-spp.weights’\n",
      "\n",
      "yolov3-spp.weights  100%[===================>] 240.53M  2.87MB/s    in 72s     \n",
      "\n",
      "2019-08-13 16:34:43 (3.34 MB/s) - ‘yolov3-spp.weights’ saved [252209544/252209544]\n",
      "\n",
      "--2019-08-13 16:34:43--  https://pjreddie.com/media/files/darknet53.conv.74\n",
      "Resolving pjreddie.com (pjreddie.com)... 128.208.4.108\n",
      "Connecting to pjreddie.com (pjreddie.com)|128.208.4.108|:443... connected.\n",
      "HTTP request sent, awaiting response... 200 OK\n",
      "Length: 162482580 (155M) [application/octet-stream]\n",
      "Saving to: ‘darknet53.conv.74’\n",
      "\n",
      "darknet53.conv.74   100%[===================>] 154.96M  18.4MB/s    in 24s     \n",
      "\n",
      "2019-08-13 16:35:08 (6.41 MB/s) - ‘darknet53.conv.74’ saved [162482580/162482580]\n",
      "\n"
     ]
    }
   ],
   "source": []
  },
  {
   "cell_type": "code",
   "execution_count": null,
   "metadata": {
    "colab": {},
    "colab_type": "code",
    "id": "BXVhRoJXzxaF"
   },
   "outputs": [],
   "source": [
    "!rm -r transfercv"
   ]
  },
  {
   "cell_type": "code",
   "execution_count": null,
   "metadata": {
    "colab": {},
    "colab_type": "code",
    "id": "UtZx_SQS7B2L"
   },
   "outputs": [],
   "source": []
  }
 ],
 "metadata": {
  "accelerator": "GPU",
  "colab": {
   "collapsed_sections": [],
   "name": "CHL7001-READY-Drone-vs-Plane.ipynb",
   "provenance": [],
   "version": "0.3.2"
  },
  "kernelspec": {
   "display_name": "Python 3",
   "language": "python",
   "name": "python3"
  },
  "language_info": {
   "codemirror_mode": {
    "name": "ipython",
    "version": 3
   },
   "file_extension": ".py",
   "mimetype": "text/x-python",
   "name": "python",
   "nbconvert_exporter": "python",
   "pygments_lexer": "ipython3",
   "version": "3.7.3"
  }
 },
 "nbformat": 4,
 "nbformat_minor": 2
}
